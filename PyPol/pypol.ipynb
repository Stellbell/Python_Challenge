{
 "cells": [
  {
   "cell_type": "code",
   "execution_count": 93,
   "id": "6f43df9e-55e5-41a6-8b8d-05e8fb2d6ece",
   "metadata": {},
   "outputs": [],
   "source": [
    "import os\n",
    "import csv\n",
    "import sys"
   ]
  },
  {
   "cell_type": "code",
   "execution_count": 94,
   "id": "aab91fd8-7848-4dab-8160-258ef60a3943",
   "metadata": {},
   "outputs": [],
   "source": [
    "csvpath= os.path.join('Resources','election_data.csv' )"
   ]
  },
  {
   "cell_type": "code",
   "execution_count": 95,
   "id": "d658fabc-2cf4-4736-9f8d-c7864af30fd2",
   "metadata": {},
   "outputs": [
    {
     "data": {
      "text/plain": [
       "'/Users/stellaschubert/Desktop/Python_Challenge/PyPol'"
      ]
     },
     "execution_count": 95,
     "metadata": {},
     "output_type": "execute_result"
    }
   ],
   "source": [
    "pwd"
   ]
  },
  {
   "cell_type": "code",
   "execution_count": 96,
   "id": "efbb4440-0db9-4cf3-8d28-fc5879eccf9f",
   "metadata": {},
   "outputs": [
    {
     "data": {
      "text/plain": [
       "'Resources/election_data.csv'"
      ]
     },
     "execution_count": 96,
     "metadata": {},
     "output_type": "execute_result"
    }
   ],
   "source": [
    "csvpath"
   ]
  },
  {
   "cell_type": "code",
   "execution_count": 97,
   "id": "48443c53-f3a5-442f-bd08-8871163417d3",
   "metadata": {
    "collapsed": true,
    "jupyter": {
     "outputs_hidden": true
    },
    "tags": []
   },
   "outputs": [
    {
     "name": "stdout",
     "output_type": "stream",
     "text": [
      "Election Results\n",
      "-------------------------\n"
     ]
    }
   ],
   "source": [
    "print(\"Election Results\")\n",
    "print(\"-------------------------\")\n",
    "\n",
    "with open(csvpath) as csvfile:\n",
    "\n",
    "    # CSV reader specifies delimiter and variable that holds contents\n",
    "    csvreader = csv.reader(csvfile, delimiter=',')\n",
    "\n",
    "    # Read the header row first (skip this step if there is row header)\n",
    "    csv_header = next(csvreader)\n",
    "    \n",
    "    Number_Of_Rows = 0\n",
    "    Candidate = \"\"\n",
    "    Votes_Per_Candidate = {}\n",
    "    \n",
    "    Winner_Number_Of_Votes = 0\n",
    "    Winner_Name = \"\"\n",
    "\n",
    "    # Read each row of data after the header\n",
    "    for row in csvreader:\n",
    "        Number_Of_Rows = Number_Of_Rows + 1\n",
    "        Candidate = str(row[2])\n",
    "        if(Candidate in Votes_Per_Candidate):\n",
    "            Votes_Per_Candidate[Candidate] = Votes_Per_Candidate[Candidate] + 1\n",
    "        else:\n",
    "            Votes_Per_Candidate[Candidate] = 1\n"
   ]
  },
  {
   "cell_type": "code",
   "execution_count": 98,
   "id": "e4bfbd64-bad0-4e71-8151-9f71973fdddc",
   "metadata": {
    "collapsed": true,
    "jupyter": {
     "outputs_hidden": true
    },
    "tags": []
   },
   "outputs": [
    {
     "name": "stdout",
     "output_type": "stream",
     "text": [
      "Total Votes: 3521001\n",
      "-------------------------\n"
     ]
    }
   ],
   "source": [
    "print( \"Total Votes: {}\".format(Number_Of_Rows))\n",
    "print(\"-------------------------\")"
   ]
  },
  {
   "cell_type": "code",
   "execution_count": 99,
   "id": "29b2629b-41cb-4d94-8429-3819da94686b",
   "metadata": {},
   "outputs": [
    {
     "name": "stdout",
     "output_type": "stream",
     "text": [
      "Khan: 63.000 (2218231)\n",
      "Correy: 20.000 (704200)\n",
      "Li: 14.000 (492940)\n",
      "O'Tooley: 3.000 (105630)\n"
     ]
    }
   ],
   "source": [
    "for key, value in Votes_Per_Candidate.items():\n",
    "    if(value > Winner_Number_Of_Votes):\n",
    "        Winner_Number_Of_Votes = value\n",
    "        Winner_Name = key\n",
    "    print(\"{}:\".format(key), \n",
    "          \"{0:.3f}\".format(round(value/Number_Of_Rows*100, 3)), \n",
    "          \"({})\".format(value))\n"
   ]
  },
  {
   "cell_type": "code",
   "execution_count": 100,
   "id": "2392cebe-2c15-4e9b-a074-43acb3fcb232",
   "metadata": {
    "tags": []
   },
   "outputs": [
    {
     "name": "stdout",
     "output_type": "stream",
     "text": [
      "-------------------------\n",
      "Winner: Khan\n",
      "-------------------------\n"
     ]
    }
   ],
   "source": [
    "print(\"-------------------------\")\n",
    "print(\"Winner: {}\".format(Winner_Name))\n",
    "print(\"-------------------------\")"
   ]
  },
  {
   "cell_type": "code",
   "execution_count": 101,
   "id": "6521ed98-4253-4fdf-9195-721d9bc53602",
   "metadata": {},
   "outputs": [],
   "source": [
    "# write output to file\n",
    "original_stdout = sys.stdout # Save a reference to the original standard output\n",
    "with open('analysis/analysis.txt', 'w') as f:\n",
    "    sys.stdout = f # Change the standard output to the file we created.\n",
    "    \n",
    "    print(\"Election Results\", file=f)   \n",
    "    print(\"-------------------------\")\n",
    "    print( \"Total Votes: {}\".format(Number_Of_Rows))\n",
    "    print(\"-------------------------\")\n",
    "    for key, value in Votes_Per_Candidate.items():\n",
    "        print(\"{}:\".format(key), \n",
    "              \"{0:.3f}\".format(round(value/Number_Of_Rows*100, 3)), \n",
    "              \"({})\".format(value))\n",
    "    print(\"-------------------------\")\n",
    "    print(\"Winner: {}\".format(Winner_Name))\n",
    "    print(\"-------------------------\")\n",
    "    sys.stdout = original_stdout # Reset the standard output to its original value"
   ]
  },
  {
   "cell_type": "code",
   "execution_count": null,
   "id": "8360d591-354a-497a-a2e7-09aea78b2119",
   "metadata": {},
   "outputs": [],
   "source": []
  },
  {
   "cell_type": "code",
   "execution_count": null,
   "id": "b678f271-91cf-4698-9861-c461d8d90bd3",
   "metadata": {},
   "outputs": [],
   "source": []
  }
 ],
 "metadata": {
  "kernelspec": {
   "display_name": "Python 3",
   "language": "python",
   "name": "python3"
  },
  "language_info": {
   "codemirror_mode": {
    "name": "ipython",
    "version": 3
   },
   "file_extension": ".py",
   "mimetype": "text/x-python",
   "name": "python",
   "nbconvert_exporter": "python",
   "pygments_lexer": "ipython3",
   "version": "3.8.8"
  }
 },
 "nbformat": 4,
 "nbformat_minor": 5
}
