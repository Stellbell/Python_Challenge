{
 "cells": [
  {
   "cell_type": "code",
   "execution_count": null,
   "id": "e706bcf4-dc5e-408c-897f-722851cea863",
   "metadata": {},
   "outputs": [],
   "source": []
  },
  {
   "cell_type": "code",
   "execution_count": null,
   "id": "f41959d8-51b1-43ed-b3eb-5b6e0c180e75",
   "metadata": {},
   "outputs": [],
   "source": [
    "name= input(\"What is your name\")\n",
    "\n",
    "print(\"Your name is\"+ name)\n",
    "print(Hello name + (\"What is your age\")\n",
    "      "
   ]
  },
  {
   "cell_type": "code",
   "execution_count": null,
   "id": "4c622d5a-e231-4f1a-b3c4-6c6e7111ffcb",
   "metadata": {},
   "outputs": [],
   "source": [
    "name= input(\"What is your name\")\n",
    "\n",
    "print(\"Your name is\"+ name)\n",
    "print(Hello name + (\"What is your age\")"
   ]
  },
  {
   "cell_type": "code",
   "execution_count": null,
   "id": "e63956ad-7f60-4122-996c-5d517d4ab840",
   "metadata": {},
   "outputs": [],
   "source": [
    "name= input(\"What is your name\")\n",
    "\n",
    "print(\"Your name is\"+ name)\n",
    "print(Hello name + (\"What is your age\")name= input(\"What is your name\")\n",
    "\n",
    "print(\"Your name is\"+ name)\n",
    "print(Hello name + (\"What is your age\")"
   ]
  },
  {
   "cell_type": "code",
   "execution_count": null,
   "id": "16d09e51-be1c-4997-b900-e3208068efb4",
   "metadata": {},
   "outputs": [],
   "source": []
  }
 ],
 "metadata": {
  "kernelspec": {
   "display_name": "Python 3",
   "language": "python",
   "name": "python3"
  },
  "language_info": {
   "codemirror_mode": {
    "name": "ipython",
    "version": 3
   },
   "file_extension": ".py",
   "mimetype": "text/x-python",
   "name": "python",
   "nbconvert_exporter": "python",
   "pygments_lexer": "ipython3",
   "version": "3.8.8"
  }
 },
 "nbformat": 4,
 "nbformat_minor": 5
}
