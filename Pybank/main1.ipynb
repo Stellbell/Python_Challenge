{
 "cells": [
  {
   "cell_type": "code",
   "execution_count": 1,
   "id": "50773f02-60af-4ff3-94e9-605ef29fdf3a",
   "metadata": {},
   "outputs": [],
   "source": [
    "import os\n",
    "import csv"
   ]
  },
  {
   "cell_type": "code",
   "execution_count": 8,
   "id": "1e08a7bf-aa5e-4b7c-80e6-e7e17642d5ff",
   "metadata": {},
   "outputs": [],
   "source": [
    "csvpath= os.path.join('Resources','budget_data.csv' )"
   ]
  },
  {
   "cell_type": "code",
   "execution_count": 4,
   "id": "9240f3ae-5417-4365-88d8-9a4a29ddc4c1",
   "metadata": {},
   "outputs": [
    {
     "data": {
      "text/plain": [
       "'/Users/stellaschubert/Desktop/Python_Challenge/Pybank'"
      ]
     },
     "execution_count": 4,
     "metadata": {},
     "output_type": "execute_result"
    }
   ],
   "source": [
    "pwd"
   ]
  },
  {
   "cell_type": "code",
   "execution_count": 9,
   "id": "7e4ba48f-c0b4-4e21-9da4-eae3bf5a5936",
   "metadata": {},
   "outputs": [
    {
     "data": {
      "text/plain": [
       "'Resources/budget_data.csv'"
      ]
     },
     "execution_count": 9,
     "metadata": {},
     "output_type": "execute_result"
    }
   ],
   "source": [
    "csvpath"
   ]
  },
  {
   "cell_type": "code",
   "execution_count": 55,
   "id": "151ba12d-34ea-4083-8825-65c9a60f2a63",
   "metadata": {
    "tags": []
   },
   "outputs": [
    {
     "name": "stdout",
     "output_type": "stream",
     "text": [
      "Total:  38382578\n"
     ]
    }
   ],
   "source": [
    "with open(csvpath) as csvfile:\n",
    "\n",
    "    # CSV reader specifies delimiter and variable that holds contents\n",
    "    csvreader = csv.reader(csvfile, delimiter=',')\n",
    "\n",
    "    # Read the header row first (skip this step if there is row header)\n",
    "    csv_header = next(csvreader)\n",
    "    \n",
    "    Number_Of_Rows = 0 \n",
    "    Total_Net = 0\n",
    "    Row_Value = 0\n",
    "    \n",
    "    Max_Value = 0\n",
    "    Min_Value = 0\n",
    "    \n",
    "    Max_Month = \"\"\n",
    "    Min_Month = \"\"\n",
    "\n",
    "    # Read each row of data after the header\n",
    "    for row in csvreader:\n",
    "        Number_Of_Rows = Number_Of_Rows + 1\n",
    "        Row_Value = int(row[1])\n",
    "        \n",
    "        Total_Net = Total_Net + Row_Value\n",
    "        \n",
    "        if (Row_Value > Max_Value) : \n",
    "            Max_Value = Row_Value\n",
    "            Max_Month = str(row[0])\n",
    "            \n",
    "        if (Row_Value < Min_Value) : \n",
    "            Min_Value = Row_Value\n",
    "            Min_Month = str(row[0])\n",
    "        \n",
    "    print('Total: ', Total_Net)    \n",
    "    \n",
    "    \n"
   ]
  },
  {
   "cell_type": "code",
   "execution_count": 56,
   "id": "cb015313-c2b8-4be9-9505-c4b28c25c452",
   "metadata": {},
   "outputs": [
    {
     "name": "stdout",
     "output_type": "stream",
     "text": [
      "Total Months:  86\n"
     ]
    }
   ],
   "source": [
    "print( 'Total Months: ', Number_Of_Rows )"
   ]
  },
  {
   "cell_type": "code",
   "execution_count": 57,
   "id": "2c941861-1562-4711-907a-d4f5fea8b6c1",
   "metadata": {},
   "outputs": [
    {
     "name": "stdout",
     "output_type": "stream",
     "text": [
      "Average Change: 446309.0465116279\n"
     ]
    }
   ],
   "source": [
    "print( 'Average Change:', Total_Net / Number_Of_Rows )"
   ]
  },
  {
   "cell_type": "code",
   "execution_count": 58,
   "id": "b0d1662b-ca93-4cfa-805b-671ef0f796fb",
   "metadata": {},
   "outputs": [
    {
     "name": "stdout",
     "output_type": "stream",
     "text": [
      "Max:  Feb-2012 1170593\n"
     ]
    }
   ],
   "source": [
    "print( 'Max: ', Max_Month, Max_Value )"
   ]
  },
  {
   "cell_type": "code",
   "execution_count": 59,
   "id": "ccb0ace4-768b-4022-ab6b-0c78cf6395a3",
   "metadata": {},
   "outputs": [
    {
     "name": "stdout",
     "output_type": "stream",
     "text": [
      "Min:  Sep-2013 -1196225\n"
     ]
    }
   ],
   "source": [
    "print( 'Min: ', Min_Month, Min_Value )"
   ]
  },
  {
   "cell_type": "code",
   "execution_count": null,
   "id": "2418162b-c847-4d1d-80ad-c2c71e38af9e",
   "metadata": {},
   "outputs": [],
   "source": []
  }
 ],
 "metadata": {
  "kernelspec": {
   "display_name": "Python 3",
   "language": "python",
   "name": "python3"
  },
  "language_info": {
   "codemirror_mode": {
    "name": "ipython",
    "version": 3
   },
   "file_extension": ".py",
   "mimetype": "text/x-python",
   "name": "python",
   "nbconvert_exporter": "python",
   "pygments_lexer": "ipython3",
   "version": "3.8.8"
  }
 },
 "nbformat": 4,
 "nbformat_minor": 5
}
