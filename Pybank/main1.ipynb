{
 "cells": [
  {
   "cell_type": "code",
   "execution_count": 1,
   "id": "50773f02-60af-4ff3-94e9-605ef29fdf3a",
   "metadata": {},
   "outputs": [],
   "source": [
    "import os\n",
    "import csv"
   ]
  },
  {
   "cell_type": "code",
   "execution_count": 8,
   "id": "1e08a7bf-aa5e-4b7c-80e6-e7e17642d5ff",
   "metadata": {},
   "outputs": [],
   "source": [
    "csvpath= os.path.join('Resources','budget_data.csv' )"
   ]
  },
  {
   "cell_type": "code",
   "execution_count": 4,
   "id": "9240f3ae-5417-4365-88d8-9a4a29ddc4c1",
   "metadata": {},
   "outputs": [
    {
     "data": {
      "text/plain": [
       "'/Users/stellaschubert/Desktop/Python_Challenge/Pybank'"
      ]
     },
     "execution_count": 4,
     "metadata": {},
     "output_type": "execute_result"
    }
   ],
   "source": [
    "pwd"
   ]
  },
  {
   "cell_type": "code",
   "execution_count": 9,
   "id": "7e4ba48f-c0b4-4e21-9da4-eae3bf5a5936",
   "metadata": {},
   "outputs": [
    {
     "data": {
      "text/plain": [
       "'Resources/budget_data.csv'"
      ]
     },
     "execution_count": 9,
     "metadata": {},
     "output_type": "execute_result"
    }
   ],
   "source": [
    "csvpath"
   ]
  },
  {
   "cell_type": "code",
   "execution_count": 22,
   "id": "151ba12d-34ea-4083-8825-65c9a60f2a63",
   "metadata": {
    "tags": []
   },
   "outputs": [
    {
     "name": "stdout",
     "output_type": "stream",
     "text": [
      "38382578\n"
     ]
    }
   ],
   "source": [
    "with open(csvpath) as csvfile:\n",
    "\n",
    "    # CSV reader specifies delimiter and variable that holds contents\n",
    "    csvreader = csv.reader(csvfile, delimiter=',')\n",
    "\n",
    "    # Read the header row first (skip this step if there is now header)\n",
    "    csv_header =next(csvreader)\n",
    "    \n",
    "    Sum_1= 0 \n",
    "    Total_Net= 0\n",
    "\n",
    "\n",
    "    # Read each row of data after the header\n",
    "    for row in csvreader:\n",
    "        Sum_1= Sum_1+1\n",
    "        \n",
    "        Total_Net= Total_Net + int(row[1])\n",
    "    print(Total_Net)    \n",
    "    \n",
    "    \n"
   ]
  },
  {
   "cell_type": "code",
   "execution_count": null,
   "id": "cb015313-c2b8-4be9-9505-c4b28c25c452",
   "metadata": {},
   "outputs": [],
   "source": []
  }
 ],
 "metadata": {
  "kernelspec": {
   "display_name": "Python 3",
   "language": "python",
   "name": "python3"
  },
  "language_info": {
   "codemirror_mode": {
    "name": "ipython",
    "version": 3
   },
   "file_extension": ".py",
   "mimetype": "text/x-python",
   "name": "python",
   "nbconvert_exporter": "python",
   "pygments_lexer": "ipython3",
   "version": "3.8.8"
  }
 },
 "nbformat": 4,
 "nbformat_minor": 5
}
