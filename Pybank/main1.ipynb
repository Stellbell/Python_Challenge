{
 "cells": [
  {
   "cell_type": "code",
   "execution_count": 268,
   "id": "50773f02-60af-4ff3-94e9-605ef29fdf3a",
   "metadata": {},
   "outputs": [],
   "source": [
    "import os\n",
    "import csv\n",
    "import sys"
   ]
  },
  {
   "cell_type": "code",
   "execution_count": 269,
   "id": "1e08a7bf-aa5e-4b7c-80e6-e7e17642d5ff",
   "metadata": {},
   "outputs": [],
   "source": [
    "csvpath= os.path.join('Resources','budget_data.csv' )"
   ]
  },
  {
   "cell_type": "code",
   "execution_count": 270,
   "id": "9240f3ae-5417-4365-88d8-9a4a29ddc4c1",
   "metadata": {},
   "outputs": [
    {
     "data": {
      "text/plain": [
       "'/Users/stellaschubert/Desktop/Python_Challenge/Pybank'"
      ]
     },
     "execution_count": 270,
     "metadata": {},
     "output_type": "execute_result"
    }
   ],
   "source": [
    "pwd"
   ]
  },
  {
   "cell_type": "code",
   "execution_count": 271,
   "id": "7e4ba48f-c0b4-4e21-9da4-eae3bf5a5936",
   "metadata": {},
   "outputs": [
    {
     "data": {
      "text/plain": [
       "'Resources/budget_data.csv'"
      ]
     },
     "execution_count": 271,
     "metadata": {},
     "output_type": "execute_result"
    }
   ],
   "source": [
    "csvpath"
   ]
  },
  {
   "cell_type": "code",
   "execution_count": 272,
   "id": "151ba12d-34ea-4083-8825-65c9a60f2a63",
   "metadata": {
    "tags": []
   },
   "outputs": [
    {
     "name": "stdout",
     "output_type": "stream",
     "text": [
      "Financial Analysis\n",
      "----------------------------\n",
      "\n"
     ]
    }
   ],
   "source": [
    "print(\"Financial Analysis\")\n",
    "print(\"----------------------------\\n\")\n",
    "\n",
    "with open(csvpath) as csvfile:\n",
    "\n",
    "    # CSV reader specifies delimiter and variable that holds contents\n",
    "    csvreader = csv.reader(csvfile, delimiter=',')\n",
    "\n",
    "    # Read the header row first (skip this step if there is row header)\n",
    "    csv_header = next(csvreader)\n",
    "    \n",
    "    Number_Of_Rows = 0 \n",
    "    Total_Net = 0\n",
    "    Row_Value = 0\n",
    "    Row_number = 1\n",
    "    \n",
    "    Max_Difference_Value = 0\n",
    "    Min_Difference_Value = 0\n",
    "    \n",
    "    Max_Difference_Month = \"\"\n",
    "    Min_Difference_Month = \"\"\n",
    "    \n",
    "    Difference_With_Previous_Month = 0\n",
    "    \n",
    "    Previous_Month_Profit_Loss = 0\n",
    "    \n",
    "    Total_Chages_Over_Entire_Period = 0\n",
    "\n",
    "    # Read each row of data after the header\n",
    "    for row in csvreader:\n",
    "        Number_Of_Rows = Number_Of_Rows + 1\n",
    "        Row_Value = int(row[1])\n",
    "        \n",
    "        Total_Net = Total_Net + Row_Value\n",
    "        \n",
    "        Difference_With_Previous_Month = ( Row_Value - Previous_Month_Profit_Loss )\n",
    "        \n",
    "        # total changes over period\n",
    "        if(Row_number != 1):\n",
    "            Total_Chages_Over_Entire_Period = Total_Chages_Over_Entire_Period + Difference_With_Previous_Month\n",
    "        \n",
    "        # maximum value and month\n",
    "        if(Difference_With_Previous_Month > Max_Difference_Value): \n",
    "            Max_Difference_Value = Difference_With_Previous_Month\n",
    "            Max_Difference_Month = str(row[0])\n",
    "            \n",
    "        # minimum value and month\n",
    "        if(Difference_With_Previous_Month < Min_Difference_Value): \n",
    "            Min_Difference_Value = Difference_With_Previous_Month\n",
    "            Min_Difference_Month = str(row[0])\n",
    "        \n",
    "        # print('Month', row[0], 'Row Value: ', Row_Value, ' Prev M P/L: ', Previous_Month_Profit_Loss, 'Dif: ', Difference_With_Previous_Month)\n",
    "        \n",
    "        Previous_Month_Profit_Loss = Row_Value\n",
    "        Row_number = Row_number + 1\n",
    "        "
   ]
  },
  {
   "cell_type": "code",
   "execution_count": 273,
   "id": "87e07052-aa2f-4346-8580-7b7c5f211888",
   "metadata": {},
   "outputs": [
    {
     "name": "stdout",
     "output_type": "stream",
     "text": [
      "Total Months: 86\n"
     ]
    }
   ],
   "source": [
    "print(\"Total Months: {}\".format(Number_Of_Rows))"
   ]
  },
  {
   "cell_type": "code",
   "execution_count": 274,
   "id": "cb015313-c2b8-4be9-9505-c4b28c25c452",
   "metadata": {
    "tags": []
   },
   "outputs": [
    {
     "name": "stdout",
     "output_type": "stream",
     "text": [
      "Total: $38382578\n"
     ]
    }
   ],
   "source": [
    "print(\"Total: ${}\".format(Total_Net))"
   ]
  },
  {
   "cell_type": "code",
   "execution_count": 275,
   "id": "2c941861-1562-4711-907a-d4f5fea8b6c1",
   "metadata": {
    "collapsed": true,
    "jupyter": {
     "outputs_hidden": true
    },
    "tags": []
   },
   "outputs": [
    {
     "name": "stdout",
     "output_type": "stream",
     "text": [
      "Average Change: $-2315.12\n"
     ]
    }
   ],
   "source": [
    "print( \"Average Change: ${}\".format(round(Total_Chages_Over_Entire_Period / (Number_Of_Rows - 1), 2)))"
   ]
  },
  {
   "cell_type": "code",
   "execution_count": 276,
   "id": "b0d1662b-ca93-4cfa-805b-671ef0f796fb",
   "metadata": {
    "tags": []
   },
   "outputs": [
    {
     "name": "stdout",
     "output_type": "stream",
     "text": [
      "Greatest Increase in Profits: Feb-2012 ($1926159)\n"
     ]
    }
   ],
   "source": [
    "print(\"Greatest Increase in Profits:\", Max_Difference_Month, \"(${})\".format(Max_Difference_Value))"
   ]
  },
  {
   "cell_type": "code",
   "execution_count": 277,
   "id": "ccb0ace4-768b-4022-ab6b-0c78cf6395a3",
   "metadata": {},
   "outputs": [
    {
     "name": "stdout",
     "output_type": "stream",
     "text": [
      "Greatest Decrease in Profits: Sep-2013 ($-2196167)\n"
     ]
    }
   ],
   "source": [
    "print('Greatest Decrease in Profits:', Min_Difference_Month, \"(${})\".format(Min_Difference_Value))"
   ]
  },
  {
   "cell_type": "code",
   "execution_count": 278,
   "id": "c0668b78-3b90-4aee-b65b-b1f59d942e1e",
   "metadata": {},
   "outputs": [],
   "source": [
    "# write output to file\n",
    "original_stdout = sys.stdout # Save a reference to the original standard output\n",
    "with open('analysis/analysis.txt', 'w') as f:\n",
    "    sys.stdout = f # Change the standard output to the file we created.\n",
    "    \n",
    "    print(\"Financial Analysis\", file=f)   \n",
    "    print(\"----------------------------\\n\")\n",
    "    print(\"Total Months: {}\".format(Number_Of_Rows))\n",
    "    print(\"Total: ${}\".format(Total_Net))\n",
    "    print(\"Average Change: ${}\".format(round(Total_Chages_Over_Entire_Period / (Number_Of_Rows - 1), 2)))\n",
    "    print(\"Greatest Increase in Profits:\", Max_Difference_Month, \"(${})\".format(Max_Difference_Value))\n",
    "    print('Greatest Decrease in Profits:', Min_Difference_Month, \"(${})\".format(Min_Difference_Value))\n",
    "    \n",
    "    sys.stdout = original_stdout # Reset the standard output to its original value"
   ]
  },
  {
   "cell_type": "code",
   "execution_count": null,
   "id": "2c59714c-43cb-49ec-bbf5-a419055d42f5",
   "metadata": {},
   "outputs": [],
   "source": []
  }
 ],
 "metadata": {
  "kernelspec": {
   "display_name": "Python 3",
   "language": "python",
   "name": "python3"
  },
  "language_info": {
   "codemirror_mode": {
    "name": "ipython",
    "version": 3
   },
   "file_extension": ".py",
   "mimetype": "text/x-python",
   "name": "python",
   "nbconvert_exporter": "python",
   "pygments_lexer": "ipython3",
   "version": "3.8.8"
  }
 },
 "nbformat": 4,
 "nbformat_minor": 5
}
