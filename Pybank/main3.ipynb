{
 "cells": [
  {
   "cell_type": "code",
   "execution_count": 128,
   "id": "2fe5d26f-1ccc-4cdb-925b-111d0382f0e9",
   "metadata": {},
   "outputs": [
    {
     "data": {
      "text/plain": [
       "'./Resources/budget_data.csv'"
      ]
     },
     "execution_count": 128,
     "metadata": {},
     "output_type": "execute_result"
    }
   ],
   "source": [
    "import os\n",
    "import csv\n",
    "csvpath= os.path.join(\".\"'Resources','budget_data.csv' )\n",
    "csvpath"
   ]
  },
  {
   "cell_type": "code",
   "execution_count": 144,
   "id": "4dcd9c37-69bc-45a0-b916-93fc5f4db0bd",
   "metadata": {
    "tags": []
   },
   "outputs": [
    {
     "name": "stdout",
     "output_type": "stream",
     "text": [
      "86\n"
     ]
    }
   ],
   "source": [
    "with open(csvpath) as csvfile:\n",
    "\n",
    "    # CSV reader specifies delimiter and variable that holds contents\n",
    "    csvreader = csv.reader(csvfile, delimiter=',')\n",
    "\n",
    "    # Read the header row first (skip this step if there is now header)\n",
    "    csv_header = next(csvreader)\n",
    "\n",
    "    \n",
    "    \n",
    "        \n",
    "        \n",
    "    Sum_1= 0 \n",
    "    \n",
    "    for row in csvreader: \n",
    "        Sum_1= Sum_1+1\n",
    "    \n",
    "    print(Sum_1) \n",
    "\n",
    "\n",
    "\n",
    "    # Read each row of data after the header\n",
    "    \n",
    "       "
   ]
  },
  {
   "cell_type": "code",
   "execution_count": null,
   "id": "e176f584-bae4-4629-a813-a30faf70aa97",
   "metadata": {},
   "outputs": [],
   "source": [
    "\n"
   ]
  },
  {
   "cell_type": "code",
   "execution_count": null,
   "id": "c124b85e-0171-4c01-b1f6-436c947ae237",
   "metadata": {
    "tags": []
   },
   "outputs": [],
   "source": []
  }
 ],
 "metadata": {
  "kernelspec": {
   "display_name": "Python 3",
   "language": "python",
   "name": "python3"
  },
  "language_info": {
   "codemirror_mode": {
    "name": "ipython",
    "version": 3
   },
   "file_extension": ".py",
   "mimetype": "text/x-python",
   "name": "python",
   "nbconvert_exporter": "python",
   "pygments_lexer": "ipython3",
   "version": "3.8.8"
  }
 },
 "nbformat": 4,
 "nbformat_minor": 5
}
